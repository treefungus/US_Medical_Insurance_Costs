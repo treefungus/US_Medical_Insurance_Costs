{
 "cells": [
  {
   "cell_type": "markdown",
   "metadata": {},
   "source": [
    "# U.S. Medical Insurance Costs"
   ]
  },
  {
   "cell_type": "markdown",
   "metadata": {},
   "source": [
    "importing modules and connecting dataset\n",
    "saving data to variables"
   ]
  },
  {
   "cell_type": "code",
   "execution_count": 3,
   "metadata": {
    "scrolled": false
   },
   "outputs": [],
   "source": [
    "import csv\n",
    "\n",
    "variables = []\n",
    "\n",
    "age = []\n",
    "sex = []\n",
    "# bmi needs float()\n",
    "bmi = []\n",
    "children = []\n",
    "# smoker event. Boolean\n",
    "smoker = []\n",
    "region = []\n",
    "#charges need float()\n",
    "charges = []\n",
    "\n",
    "clients_dicts = []\n",
    "\n",
    "with open('insurance.csv', 'r', newline = '') as data:\n",
    "    reader = csv.reader(data)  \n",
    "    header = next(reader)\n",
    "    variables = header\n",
    "    \n",
    "    # first 20 rows into variables\n",
    "    #count = 0\n",
    "    for row in reader:\n",
    "        # there must be better way; to be done\n",
    "        #if count < 20:\n",
    "        #now all records\n",
    "            age.append(row[0])\n",
    "            sex.append(row[1])\n",
    "            bmi.append(row[2])\n",
    "            children.append(row[3])\n",
    "            smoker.append(row[4])\n",
    "            region.append(row[5])\n",
    "            charges.append(row[6])\n",
    "            #count += 1\n"
   ]
  },
  {
   "cell_type": "markdown",
   "metadata": {},
   "source": [
    "feeding dictionary variable"
   ]
  },
  {
   "cell_type": "code",
   "execution_count": 4,
   "metadata": {},
   "outputs": [],
   "source": [
    "with open('insurance.csv', 'r', newline = '') as data:\n",
    "    csv_dict = csv.DictReader(data)\n",
    "    count = 0\n",
    "    for row in csv_dict:\n",
    "        # first 20 as dictionaries\n",
    "        #if count < 20:\n",
    "        #now all as dicts in a variable\n",
    "        clients_dicts.append(dict(row))\n",
    "        count += 1"
   ]
  },
  {
   "cell_type": "markdown",
   "metadata": {},
   "source": [
    "testing"
   ]
  },
  {
   "cell_type": "code",
   "execution_count": 5,
   "metadata": {},
   "outputs": [
    {
     "name": "stdout",
     "output_type": "stream",
     "text": [
      "['age', 'sex', 'bmi', 'children', 'smoker', 'region', 'charges']\n",
      "[{'age': '19', 'sex': 'female', 'bmi': '27.9', 'children': '0', 'smoker': 'yes', 'region': 'southwest', 'charges': '16884.924'}, {'age': '18', 'sex': 'male', 'bmi': '33.77', 'children': '1', 'smoker': 'no', 'region': 'southeast', 'charges': '1725.5523'}, {'age': '28', 'sex': 'male', 'bmi': '33', 'children': '3', 'smoker': 'no', 'region': 'southeast', 'charges': '4449.462'}, {'age': '33', 'sex': 'male', 'bmi': '22.705', 'children': '0', 'smoker': 'no', 'region': 'northwest', 'charges': '21984.47061'}, {'age': '32', 'sex': 'male', 'bmi': '28.88', 'children': '0', 'smoker': 'no', 'region': 'northwest', 'charges': '3866.8552'}, {'age': '31', 'sex': 'female', 'bmi': '25.74', 'children': '0', 'smoker': 'no', 'region': 'southeast', 'charges': '3756.6216'}, {'age': '46', 'sex': 'female', 'bmi': '33.44', 'children': '1', 'smoker': 'no', 'region': 'southeast', 'charges': '8240.5896'}, {'age': '37', 'sex': 'female', 'bmi': '27.74', 'children': '3', 'smoker': 'no', 'region': 'northwest', 'charges': '7281.5056'}, {'age': '37', 'sex': 'male', 'bmi': '29.83', 'children': '2', 'smoker': 'no', 'region': 'northeast', 'charges': '6406.4107'}]\n",
      "1338\n"
     ]
    }
   ],
   "source": [
    "#test prints\n",
    "print(variables)\n",
    "#test commented to avoid heavy print\n",
    "#print(age, sex, bmi, children, smoker, region, charges)\n",
    "print(clients_dicts[:9])\n",
    "print(len(clients_dicts))\n",
    "# bug: all is string"
   ]
  },
  {
   "cell_type": "markdown",
   "metadata": {},
   "source": [
    "defining class"
   ]
  },
  {
   "cell_type": "code",
   "execution_count": 6,
   "metadata": {},
   "outputs": [
    {
     "name": "stdout",
     "output_type": "stream",
     "text": [
      "{'southwest': 58, 'southeast': 91, 'northeast': 67, 'northwest': 58}\n"
     ]
    }
   ],
   "source": [
    "class Patient():\n",
    "    def __init__(self):\n",
    "        pass\n",
    "    def add_patient(self, patient_dict):\n",
    "        pass\n",
    "    # in progress\n",
    "    def smokers_by_region(self, patients_dict):\n",
    "        new_dict = {}\n",
    "        for patient in patients_dict:\n",
    "            if patient['smoker'] == 'yes':\n",
    "                if patient['region'] not in new_dict.keys():\n",
    "                    new_dict[patient['region']] = 1\n",
    "                else:\n",
    "                    new_dict[patient['region']] += 1\n",
    "        print(new_dict)\n",
    "    def smoker_and_parent(self, patients_dict):\n",
    "        total_smokers_kids = 0\n",
    "        total_nonsmokers_kids = 0\n",
    "        smokers = 0\n",
    "        nonsmokers = 0\n",
    "        for patient in patients_dict:\n",
    "            if patient['smoker'] == 'yes':\n",
    "                total_smokers_kids += int(patient['children'])\n",
    "                smokers += 1\n",
    "            else:\n",
    "                total_nonsmokers_kids += int(patient['children'])\n",
    "                nonsmokers += 1\n",
    "        print(f\"There are {smokers} smokers and {nonsmokers} nonsmokers.\")\n",
    "        \n",
    "        avg_smokers_kids = total_smokers_kids / smokers\n",
    "        avg_nonsmokers_kids = total_nonsmokers_kids / nonsmokers\n",
    "        \n",
    "        print(f\"Average smoker has {avg_smokers_kids} kids, average nonsmoker {avg_nonsmokers_kids} kids\")\n",
    "        \n",
    "    def region_and_kids():\n",
    "        pass\n",
    "    \n",
    "    def bmi_an_kids():\n",
    "        pass\n",
    "    \n",
    "    def smoker_and_bmi():\n",
    "        pass\n",
    "    \n",
    "    def more_expensive():\n",
    "        pass\n",
    "\n",
    "patient = Patient()\n",
    "\n",
    "patient.smokers_by_region(clients_dicts)"
   ]
  },
  {
   "cell_type": "markdown",
   "metadata": {},
   "source": [
    "OK. East smokes more. And South smokes more than North."
   ]
  },
  {
   "cell_type": "code",
   "execution_count": 7,
   "metadata": {},
   "outputs": [
    {
     "name": "stdout",
     "output_type": "stream",
     "text": [
      "There are 274 smokers and 1064 nonsmokers.\n",
      "Average smoker has 1.1131386861313868 kids, average nonsmoker 1.0902255639097744 kids\n"
     ]
    }
   ],
   "source": [
    "patient.smoker_and_parent(clients_dicts)"
   ]
  },
  {
   "cell_type": "markdown",
   "metadata": {},
   "source": [
    "It's a tie."
   ]
  },
  {
   "cell_type": "code",
   "execution_count": 8,
   "metadata": {},
   "outputs": [
    {
     "name": "stdout",
     "output_type": "stream",
     "text": [
      "Avg bmi of childless person: 30.550296167247392\n",
      "Avg bmi of parent: 30.748370418848165\n"
     ]
    }
   ],
   "source": [
    "def bmi_and_kids(patients_dicts):\n",
    "    sum_bmi_wo_kids = 0\n",
    "    childless = 0\n",
    "    sum_bmi_w_kids = 0\n",
    "    parents = 0\n",
    "    for patient in patients_dicts:\n",
    "        if patient['children'] == '0':\n",
    "            sum_bmi_wo_kids += float(patient['bmi'])\n",
    "            childless += 1\n",
    "        else:\n",
    "            sum_bmi_w_kids += float(patient['bmi'])\n",
    "            parents += 1\n",
    "    print(\"Avg bmi of childless person: \" + str(sum_bmi_wo_kids / childless))\n",
    "    print(\"Avg bmi of parent: \" + str(sum_bmi_w_kids / parents))\n",
    "\n",
    "bmi_and_kids(clients_dicts)\n",
    "    "
   ]
  },
  {
   "cell_type": "markdown",
   "metadata": {},
   "source": [
    "Parents are bigger."
   ]
  }
 ],
 "metadata": {
  "kernelspec": {
   "display_name": "Python 3",
   "language": "python",
   "name": "python3"
  },
  "language_info": {
   "codemirror_mode": {
    "name": "ipython",
    "version": 3
   },
   "file_extension": ".py",
   "mimetype": "text/x-python",
   "name": "python",
   "nbconvert_exporter": "python",
   "pygments_lexer": "ipython3",
   "version": "3.7.6"
  }
 },
 "nbformat": 4,
 "nbformat_minor": 4
}
