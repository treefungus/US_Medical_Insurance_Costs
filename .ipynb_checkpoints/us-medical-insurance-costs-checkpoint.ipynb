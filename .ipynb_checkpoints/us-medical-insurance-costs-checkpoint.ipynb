{
 "cells": [
  {
   "cell_type": "markdown",
   "metadata": {},
   "source": [
    "# U.S. Medical Insurance Costs"
   ]
  },
  {
   "cell_type": "markdown",
   "metadata": {},
   "source": [
    "importing modules and connecting dataset\n",
    "saving data to variables"
   ]
  },
  {
   "cell_type": "code",
   "execution_count": 51,
   "metadata": {
    "scrolled": true
   },
   "outputs": [
    {
     "ename": "TypeError",
     "evalue": "'DictReader' object is not subscriptable",
     "output_type": "error",
     "traceback": [
      "\u001b[0;31m---------------------------------------------------------------------------\u001b[0m",
      "\u001b[0;31mTypeError\u001b[0m                                 Traceback (most recent call last)",
      "\u001b[0;32m<ipython-input-51-95eab85af9b2>\u001b[0m in \u001b[0;36m<module>\u001b[0;34m\u001b[0m\n\u001b[1;32m     38\u001b[0m     \u001b[0;31m# wtf wrong with DictReader\u001b[0m\u001b[0;34m\u001b[0m\u001b[0;34m\u001b[0m\u001b[0;34m\u001b[0m\u001b[0m\n\u001b[1;32m     39\u001b[0m     \u001b[0mcsv_dict\u001b[0m \u001b[0;34m=\u001b[0m \u001b[0mcsv\u001b[0m\u001b[0;34m.\u001b[0m\u001b[0mDictReader\u001b[0m\u001b[0;34m(\u001b[0m\u001b[0mdata\u001b[0m\u001b[0;34m)\u001b[0m\u001b[0;34m\u001b[0m\u001b[0;34m\u001b[0m\u001b[0m\n\u001b[0;32m---> 40\u001b[0;31m     \u001b[0mprint\u001b[0m\u001b[0;34m(\u001b[0m\u001b[0mcsv_dict\u001b[0m\u001b[0;34m[\u001b[0m\u001b[0;34m'age'\u001b[0m\u001b[0;34m]\u001b[0m\u001b[0;34m)\u001b[0m\u001b[0;34m\u001b[0m\u001b[0;34m\u001b[0m\u001b[0m\n\u001b[0m\u001b[1;32m     41\u001b[0m \u001b[0;34m\u001b[0m\u001b[0m\n\u001b[1;32m     42\u001b[0m \u001b[0mprint\u001b[0m\u001b[0;34m(\u001b[0m\u001b[0mvariables\u001b[0m\u001b[0;34m)\u001b[0m\u001b[0;34m\u001b[0m\u001b[0;34m\u001b[0m\u001b[0m\n",
      "\u001b[0;31mTypeError\u001b[0m: 'DictReader' object is not subscriptable"
     ]
    }
   ],
   "source": [
    "import csv\n",
    "\n",
    "variables = []\n",
    "\n",
    "age = []\n",
    "sex = []\n",
    "# bmi needs float()\n",
    "bmi = []\n",
    "children = []\n",
    "# smoker event. Boolean\n",
    "smoker = []\n",
    "region = []\n",
    "#charges need float()\n",
    "charges = []\n",
    "\n",
    "clients_dict = {}\n",
    "\n",
    "with open('insurance.csv', 'r', newline = '') as data:\n",
    "    reader = csv.reader(data)  \n",
    "    header = next(reader)\n",
    "    variables = header\n",
    "    \n",
    "    # first 50 rows into variables\n",
    "    count = 0\n",
    "    for row in reader:\n",
    "        # there must be better way; to be done\n",
    "        if count < 5:\n",
    "            age.append(row[0])\n",
    "            sex.append(row[1])\n",
    "            bmi.append(row[2])\n",
    "            children.append(row[3])\n",
    "            smoker.append(row[4])\n",
    "            region.append(row[5])\n",
    "            charges.append(row[6])\n",
    "            count += 1\n",
    "\n",
    "with open('insurance.csv', 'r', newline = '') as data:\n",
    "    # wtf wrong with DictReader, to be solved\n",
    "    csv_dict = csv.DictReader(data)\n",
    "    print(csv_dict['age'])\n",
    "        \n",
    "print(variables)\n",
    "print(age, sex, bmi, children, smoker, region, charges)"
   ]
  },
  {
   "cell_type": "markdown",
   "metadata": {},
   "source": []
  },
  {
   "cell_type": "code",
   "execution_count": null,
   "metadata": {},
   "outputs": [],
   "source": []
  }
 ],
 "metadata": {
  "kernelspec": {
   "display_name": "Python 3",
   "language": "python",
   "name": "python3"
  },
  "language_info": {
   "codemirror_mode": {
    "name": "ipython",
    "version": 3
   },
   "file_extension": ".py",
   "mimetype": "text/x-python",
   "name": "python",
   "nbconvert_exporter": "python",
   "pygments_lexer": "ipython3",
   "version": "3.7.6"
  }
 },
 "nbformat": 4,
 "nbformat_minor": 4
}
